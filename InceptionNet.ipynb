{
 "cells": [
  {
   "cell_type": "code",
   "execution_count": 1,
   "metadata": {
    "collapsed": true
   },
   "outputs": [
    {
     "name": "stderr",
     "output_type": "stream",
     "text": [
      "E:\\deeplearning\\envs\\tensorflow\\lib\\site-packages\\h5py\\__init__.py:34: FutureWarning: Conversion of the second argument of issubdtype from `float` to `np.floating` is deprecated. In future, it will be treated as `np.float64 == np.dtype(float).type`.\n  from ._conv import register_converters as _register_converters\n"
     ]
    }
   ],
   "source": [
    "import tensorflow as tf\n",
    "slim = tf.contrib.slim\n",
    "trunc_normal = lambda stddev: tf.truncated_normal_initializer(0.0, stddev)"
   ]
  },
  {
   "cell_type": "code",
   "execution_count": 2,
   "metadata": {},
   "outputs": [],
   "source": [
    "def inception_v3_arg_scope(weight_decay=0.00004,\n",
    "                           stddev=0.1,\n",
    "                           batch_norm_var_collection='moving_vars'):\n",
    "    \n",
    "    batch_norm_params = {\n",
    "        'decay': 0.9997,\n",
    "        'epsilon': 0.001,\n",
    "        'updates_collections': tf.GraphKeys.UPDATE_OPS,\n",
    "        'variables_collections': {\n",
    "            'beta': None,\n",
    "            'gamma': None,\n",
    "            'moving_mean': [batch_norm_var_collection],\n",
    "            'moving_variance': [batch_norm_var_collection],\n",
    "        }\n",
    "    }\n",
    "    \n",
    "    with slim.arg_scope([slim.conv2d, slim.fully_connected],\n",
    "                        weights_regularizer=slim.l2_regularizer(weight_decay)):\n",
    "        with slim.arg_scope(\n",
    "            [slim.conv2d],\n",
    "            weights_initializer=tf.truncated_normal_initializer(stddev=stddev),\n",
    "            activation_fn=tf.nn.relu,\n",
    "            normalizer_fn=slim.batch_norm,\n",
    "            normalizer_params=batch_norm_params\n",
    "        ) as sc:\n",
    "            return sc"
   ]
  },
  {
   "cell_type": "code",
   "execution_count": 3,
   "metadata": {},
   "outputs": [],
   "source": [
    "def inception_v3_base(inputs, scope=None):\n",
    "    end_point = {}\n",
    "    with tf.variable_scope(scope, 'InceptionV3', [inputs]):\n",
    "        with slim.arg_scope([slim.conv2d, slim.max_pool2d, slim.avg_pool2d],\n",
    "                            stride=1, padding='VALID'):\n",
    "            net = slim.conv2d(inputs, 32, [3, 3], stride=2, scope='Conv2d_1a_3x3')\n",
    "            net = slim.conv2d(net, 32, [3, 3], scope='Conv2d_2a_3x3')\n",
    "            net = slim.conv2d(net, 64, [3, 3], padding='SAME', scope='Conv2d_2b_3x3')\n",
    "            net = slim.max_pool2d(net, [3, 3], stride=2, scope='Maxpool_3a_3x3')\n",
    "            net = slim.conv2d(net, 80, [1, 1], scope='Conv2d_3b_1x1')\n",
    "            net = slim.conv2d(net, 192, [3, 3], scope='Conv2d_4a_3x3')\n",
    "            net = slim.max_pool2d(net, [3, 3], stride=2, scope='Maxpool_5a_3x3')\n",
    "        with slim.arg_scope([slim.conv2d, slim.max_pool2d, slim.avg_pool2d],\n",
    "                            stride=1, padding='SAME'):\n",
    "            with tf.variable_scope('Mixed_5b'):\n",
    "                with tf.variable_scope('Branch_0'):\n",
    "                    branch_0 = slim.conv2d(net, 64, [1, 1], scope='Conv2d_0a_1x1')\n",
    "                with tf.variable_scope('Branch_1'):\n",
    "                    branch_1 = slim.conv2d(net, 48, [1, 1], scope='Conv2d_0a_1x1')\n",
    "                    branch_1 = slim.conv2d(branch_1, 64, [5, 5], scope='Conv2d_0b_5x5')\n",
    "                with tf.variable_scope('Branch_2'):\n",
    "                    branch_2 = slim.conv2d(net, 64, [1, 1], scope='Conv2d_0a_1x1')\n",
    "                    branch_2 = slim.conv2d(branch_2, 96, [3, 3], scope='Conv2d_0b_3x3')\n",
    "                    branch_2 = slim.conv2d(branch_2, 96, [3, 3], scope='Conv2d_0c_3x3')\n",
    "                with tf.variable_scope('Branch_3'):\n",
    "                    branch_3 = slim.avg_pool2d(net, [3, 3], scope='AvgPool_0a_3x3')\n",
    "                    branch_3 = slim.conv2d(branch_3, 32, [1, 1], scope='Conv2d_0b_1x1')\n",
    "                net = tf.concat([branch_0, branch_1, branch_2, branch_3], 3)\n",
    "                    \n",
    "            with tf.variable_scope('Mixed_5c'):\n",
    "                with tf.variable_scope('Branch_0'):\n",
    "                    branch_0 = slim.conv2d(net, 64, [1, 1], scope='Conv2d_0a_1x1')\n",
    "                with tf.variable_scope('Branch_1'):\n",
    "                    branch_1 = slim.conv2d(net, 48, [1, 1], scope='Conv2d_0a_1x1')\n",
    "                    branch_1 = slim.conv2d(branch_1, 64, [5, 5], scope='Conv2d_0b_5x5')\n",
    "                with tf.variable_scope('Branch_2'):\n",
    "                    branch_2 = slim.conv2d(net, 64, [1, 1], scope='Conv2d_0a_1x1')\n",
    "                    branch_2 = slim.conv2d(branch_2, 96, [3, 3], scope='Conv2d_0b_3x3')\n",
    "                    branch_2 = slim.conv2d(branch_2, 96, [3, 3], scope='Conv2d_0c_3x3')\n",
    "                with tf.variable_scope('Branch_3'):\n",
    "                    branch_3 = slim.avg_pool2d(net, [3, 3], scope='AvgPool_0a_3x3')\n",
    "                    branch_3 = slim.conv2d(branch_3, 64, [1, 1], scope='Conv2d_0b_1x1')\n",
    "                net = tf.concat([branch_0, branch_1, branch_2, branch_3], 3)\n",
    "                \n",
    "            with tf.variable_scope('Mixed_5d'):\n",
    "                with tf.variable_scope('Branch_0'):\n",
    "                    branch_0 = slim.conv2d(net, 64, [1, 1], scope='Conv2d_0a_1x1')\n",
    "                with tf.variable_scope('Branch_1'):\n",
    "                    branch_1 = slim.conv2d(net, 48, [1, 1], scope='Conv2d_0a_1x1')\n",
    "                    branch_1 = slim.conv2d(branch_1, 64, [5, 5], scope='Conv2d_0b_5x5')\n",
    "                with tf.variable_scope('Branch_2'):\n",
    "                    branch_2 = slim.conv2d(net, 64, [1, 1], scope='Conv2d_0a_1x1')\n",
    "                    branch_2 = slim.conv2d(branch_2, 96, [3, 3], scope='Conv2d_0b_3x3')\n",
    "                    branch_2 = slim.conv2d(branch_2, 96, [3, 3], scope='Conv2d_0c_3x3')\n",
    "                with tf.variable_scope('Branch_3'):\n",
    "                    branch_3 = slim.avg_pool2d(net, [3, 3], scope='AvgPool_0a_3x3')\n",
    "                    branch_3 = slim.conv2d(branch_3, 64, [1, 1], scope='Conv2d_0b_1x1')\n",
    "                net = tf.concat([branch_0, branch_1, branch_2, branch_3], 3)\n",
    "                \n",
    "            with tf.variable_scope('Mixed_6a'):\n",
    "                with tf.variable_scope('Branch_0'):\n",
    "                    branch_0 = slim.conv2d(net, 384, [3, 3], stride=2, padding='VALID', scope='Conv2d_0a_3x3')\n",
    "                with tf.variable_scope('Branch_1'):\n",
    "                    branch_1 = slim.conv2d(net, 64, [1, 1], scope='Conv2d_0a_1x1')\n",
    "                    branch_1 = slim.conv2d(branch_1, 96, [3, 3], scope='Conv2d_0b_3x3')\n",
    "                    branch_1 = slim.conv2d(branch_1, 96, [3, 3], stride=2, padding='VALID', scope='Conv2d_0c_3x3')\n",
    "                with tf.variable_scope('Branch_2'):\n",
    "                    branch_2 = slim.max_pool2d(net, [3, 3], stride=2,padding='VALID', scope='MaxPool_1a_3x3')\n",
    "                net = tf.concat([branch_0, branch_1, branch_2], 3)\n",
    "               \n",
    "            with tf.variable_scope('Mixed_6b'):\n",
    "                with tf.variable_scope('Branch_0'):\n",
    "                    branch_0 = slim.conv2d(net, 192, [1, 1], scope='Conv2d_0a_1x1')\n",
    "                with tf.variable_scope('Branch_1'):\n",
    "                    branch_1 = slim.conv2d(net, 128, [1, 1], scope='Conv2d_0a_1x1')\n",
    "                    branch_1 = slim.conv2d(branch_1, 128, [1, 7], scope='Conv2d_0b_1x7')\n",
    "                    branch_1 = slim.conv2d(branch_1, 192, [7, 1], scope='Conv2d_0c_7x1')\n",
    "                with tf.variable_scope('Branch_2'):\n",
    "                    branch_2 = slim.conv2d(net, 128, [1, 1], scope='Conv2d_0a_1x1')\n",
    "                    branch_2 = slim.conv2d(branch_2, 128, [7, 1], scope='Conv2d_0b_7x1')\n",
    "                    branch_2 = slim.conv2d(branch_2, 128, [1, 7], scope='Conv2d_0c_1x7')\n",
    "                    branch_2 = slim.conv2d(branch_2, 128, [7, 1], scope='Conv2d_0d_7x1')\n",
    "                    branch_2 = slim.conv2d(branch_2, 192, [1, 7], scope='Conv2d_0e_1x7')\n",
    "                with tf.variable_scope('Branch_3'):\n",
    "                    branch_3 = slim.avg_pool2d(net, [3, 3], scope='AvgPool_0a_3x3')\n",
    "                    branch_3 = slim.conv2d(branch_3, 192, [1, 1], scope='Conv2d_0b_1x1')\n",
    "                net = tf.concat([branch_0, branch_1, branch_2, branch_3], 3)\n",
    "                \n",
    "            with tf.variable_scope('Mixed_6c'):\n",
    "                with tf.variable_scope('Branch_0'):\n",
    "                    branch_0 = slim.conv2d(net, 192, [1, 1], scope='Conv2d_0a_1x1')\n",
    "                with tf.variable_scope('Branch_1'):\n",
    "                    branch_1 = slim.conv2d(net, 160, [1, 1], scope='Conv2d_0a_1x1')\n",
    "                    branch_1 = slim.conv2d(branch_1, 160, [1, 7], scope='Conv2d_0b_1x7')\n",
    "                    branch_1 = slim.conv2d(branch_1, 192, [7, 1], scope='Conv2d_0c_7x1')\n",
    "                with tf.variable_scope('Branch_2'):\n",
    "                    branch_2 = slim.conv2d(net, 160, [1, 1], scope='Conv2d_0a_1x1')\n",
    "                    branch_2 = slim.conv2d(branch_2, 160, [7, 1], scope='Conv2d_0b_7x1')\n",
    "                    branch_2 = slim.conv2d(branch_2, 160, [1, 7], scope='Conv2d_0c_1x7')\n",
    "                    branch_2 = slim.conv2d(branch_2, 160, [7, 1], scope='Conv2d_0d_7x1')\n",
    "                    branch_2 = slim.conv2d(branch_2, 192, [1, 7], scope='Conv2d_0e_1x7')\n",
    "                with tf.variable_scope('Branch_3'):\n",
    "                    branch_3 = slim.avg_pool2d(net, [3, 3], scope='AvgPool_0a_3x3')\n",
    "                    branch_3 = slim.conv2d(branch_3, 192, [1, 1], scope='Conv2d_0b_1x1')\n",
    "                net = tf.concat([branch_0, branch_1, branch_2, branch_3], 3)\n",
    "            \n",
    "            with tf.variable_scope('Mixed_6d'):\n",
    "                with tf.variable_scope('Branch_0'):\n",
    "                    branch_0 = slim.conv2d(net, 192, [1, 1], scope='Conv2d_0a_1x1')\n",
    "                with tf.variable_scope('Branch_1'):\n",
    "                    branch_1 = slim.conv2d(net, 160, [1, 1], scope='Conv2d_0a_1x1')\n",
    "                    branch_1 = slim.conv2d(branch_1, 160, [1, 7], scope='Conv2d_0b_1x7')\n",
    "                    branch_1 = slim.conv2d(branch_1, 192, [7, 1], scope='Conv2d_0c_7x1')\n",
    "                with tf.variable_scope('Branch_2'):\n",
    "                    branch_2 = slim.conv2d(net, 160, [1, 1], scope='Conv2d_0a_1x1')\n",
    "                    branch_2 = slim.conv2d(branch_2, 160, [7, 1], scope='Conv2d_0b_7x1')\n",
    "                    branch_2 = slim.conv2d(branch_2, 160, [1, 7], scope='Conv2d_0c_1x7')\n",
    "                    branch_2 = slim.conv2d(branch_2, 160, [7, 1], scope='Conv2d_0d_7x1')\n",
    "                    branch_2 = slim.conv2d(branch_2, 192, [1, 7], scope='Conv2d_0e_1x7')\n",
    "                with tf.variable_scope('Branch_3'):\n",
    "                    branch_3 = slim.avg_pool2d(net, [3, 3], scope='AvgPool_0a_3x3')\n",
    "                    branch_3 = slim.conv2d(branch_3, 192, [1, 1], scope='Conv2d_0b_1x1')\n",
    "                net = tf.concat([branch_0, branch_1, branch_2, branch_3], 3)\n",
    "                \n",
    "            with tf.variable_scope('Mixed_6e'):\n",
    "                with tf.variable_scope('Branch_0'):\n",
    "                    branch_0 = slim.conv2d(net, 192, [1, 1], scope='Conv2d_0a_1x1')\n",
    "                with tf.variable_scope('Branch_1'):\n",
    "                    branch_1 = slim.conv2d(net, 160, [1, 1], scope='Conv2d_0a_1x1')\n",
    "                    branch_1 = slim.conv2d(branch_1, 160, [1, 7], scope='Conv2d_0b_1x7')\n",
    "                    branch_1 = slim.conv2d(branch_1, 192, [7, 1], scope='Conv2d_0c_7x1')\n",
    "                with tf.variable_scope('Branch_2'):\n",
    "                    branch_2 = slim.conv2d(net, 160, [1, 1], scope='Conv2d_0a_1x1')\n",
    "                    branch_2 = slim.conv2d(branch_2, 160, [7, 1], scope='Conv2d_0b_7x1')\n",
    "                    branch_2 = slim.conv2d(branch_2, 160, [1, 7], scope='Conv2d_0c_1x7')\n",
    "                    branch_2 = slim.conv2d(branch_2, 160, [7, 1], scope='Conv2d_0d_7x1')\n",
    "                    branch_2 = slim.conv2d(branch_2, 192, [1, 7], scope='Conv2d_0e_1x7')\n",
    "                with tf.variable_scope('Branch_3'):\n",
    "                    branch_3 = slim.avg_pool2d(net, [3, 3], scope='AvgPool_0a_3x3')\n",
    "                    branch_3 = slim.conv2d(branch_3, 192, [1, 1], scope='Conv2d_0b_1x1')\n",
    "                net = tf.concat([branch_0, branch_1, branch_2, branch_3], 3)\n",
    "            end_point['Mixed_6e'] = net\n",
    "            \n",
    "            with tf.variable_scope('Mixed_7a'):\n",
    "                with tf.variable_scope('Branch_0'):\n",
    "                    branch_0 = slim.conv2d(net, 192, [1, 1], scope='Conv2d_0a_1x1')\n",
    "                    branch_0 = slim.conv2d(branch_0, 320, [3, 3], stride=2, padding='VALID', scope='Conv2d_0b_3x3')\n",
    "                with tf.variable_scope('Branch_1'):\n",
    "                    branch_1 = slim.conv2d(net, 192, [1, 1], scope='Conv2d_0a_1x1')\n",
    "                    branch_1 = slim.conv2d(branch_1, 192, [1, 7], scope='Conv2d_0b_1x7')\n",
    "                    branch_1 = slim.conv2d(branch_1, 192, [7, 1], scope='Conv2d_0c_7x1')\n",
    "                    branch_1 = slim.conv2d(branch_1, 192, [3, 3], stride=2, padding='VALID', scope='Conv2d_0d_3x3')\n",
    "                with tf.variable_scope('Branch_2'):\n",
    "                    branch_2 = slim.max_pool2d(net, [3, 3], stride=2, padding='VALID', scope='MaxPool_0a_3x3')\n",
    "                net = tf.concat([branch_0, branch_1, branch_2], 3)\n",
    "                \n",
    "            with tf.variable_scope('Mixed_7b'):\n",
    "                with tf.variable_scope('Branch_0'):\n",
    "                    branch_0 = slim.conv2d(net, 320, [1, 1], scope='Conv2d_0a_1x1')\n",
    "                with tf.variable_scope('Branch_1'):\n",
    "                    branch_1 = slim.conv2d(net, 384, [1, 1], scope='Conv2d_0a_1x1')\n",
    "                    branch_1 = tf.concat([\n",
    "                        slim.conv2d(branch_1, 384, [1, 3], scope='Conv2d_0b_1x3'),\n",
    "                        slim.conv2d(branch_1, 384, [3, 1], scope='Conv2d_0b_3x1')\n",
    "                    ], 3)\n",
    "                with tf.variable_scope('Branch_2'):\n",
    "                    branch_2 = slim.conv2d(net, 448, [1, 1], scope='Conv2d_0a_1x1')\n",
    "                    branch_2 = slim.conv2d(branch_2, 384, [3, 3], scope='Conv2d_0b_3x3')\n",
    "                    branch_2 = tf.concat([\n",
    "                        slim.conv2d(branch_2, 384, [1, 3], scope='Conv2d_0c_1x3'),\n",
    "                        slim.conv2d(branch_2, 384, [3, 1], scope='Conv2d_0c_3x1')                        \n",
    "                    ], 3)\n",
    "                with tf.variable_scope('Branch_3'):\n",
    "                    branch_3 = slim.avg_pool2d(net, [3, 3], scope='AvgPool_0a_3x3')\n",
    "                    branch_3 = slim.conv2d(branch_3, 192, [1, 1], scope='Conv2d_0b_1x1')\n",
    "                net = tf.concat([branch_0, branch_1, branch_2, branch_3], 3)\n",
    "                \n",
    "            with tf.variable_scope('Mixed_7c'):\n",
    "                with tf.variable_scope('Branch_0'):\n",
    "                    branch_0 = slim.conv2d(net, 320, [1, 1], scope='Conv2d_0a_1x1')\n",
    "                with tf.variable_scope('Branch_1'):\n",
    "                    branch_1 = slim.conv2d(net, 384, [1, 1], scope='Conv2d_0a_1x1')\n",
    "                    branch_1 = tf.concat([\n",
    "                        slim.conv2d(branch_1, 384, [1, 3], scope='Conv2d_0b_1x3'),\n",
    "                        slim.conv2d(branch_1, 384, [3, 1], scope='Conv2d_0b_3x1')\n",
    "                    ], 3)\n",
    "                with tf.variable_scope('Branch_2'):\n",
    "                    branch_2 = slim.conv2d(net, 448, [1, 1], scope='Conv2d_0a_1x1')\n",
    "                    branch_2 = slim.conv2d(branch_2, 384, [3, 3], scope='Conv2d_0b_3x3')\n",
    "                    branch_2 = tf.concat([\n",
    "                        slim.conv2d(branch_2, 384, [1, 3], scope='Conv2d_0c_1x3'),\n",
    "                        slim.conv2d(branch_2, 384, [3, 1], scope='Conv2d_0c_3x1')                        \n",
    "                    ], 3)\n",
    "                with tf.variable_scope('Branch_3'):\n",
    "                    branch_3 = slim.avg_pool2d(net, [3, 3], scope='AvgPool_0a_3x3')\n",
    "                    branch_3 = slim.conv2d(branch_3, 192, [1, 1], scope='Conv2d_0b_1x1')\n",
    "                net = tf.concat([branch_0, branch_1, branch_2, branch_3], 3)\n",
    "            return net, end_point        "
   ]
  },
  {
   "cell_type": "code",
   "execution_count": 4,
   "metadata": {},
   "outputs": [],
   "source": [
    "def inception_v3(inputs,\n",
    "                 num_classes=1000,\n",
    "                 is_training=True,\n",
    "                 dropout_keep_prob=0.8,\n",
    "                 prediction_fn=slim.softmax,\n",
    "                 spatial_squeeze=True,\n",
    "                 reuse=None,\n",
    "                 scope='InceptionV3'):\n",
    "    with tf.variable_scope(scope, 'InceptionV3', [inputs, num_classes],reuse=reuse) as scope:\n",
    "        with slim.arg_scope([slim.batch_norm, slim.dropout],\n",
    "                            is_training=is_training):\n",
    "            net, end_point = inception_v3_base(inputs, scope=scope)\n",
    "            with slim.arg_scope([slim.conv2d, slim.max_pool2d, slim.avg_pool2d],\n",
    "                                stride=1, padding='SAME'):\n",
    "                aux_logits = end_point['Mixed_6e']\n",
    "                with tf.variable_scope('AuxLogits'):\n",
    "                    aux_logits = slim.avg_pool2d(aux_logits, [5, 5], stride=3, padding='VALID', scope='AvgPool_1a_5x5')\n",
    "                    aux_logits = slim.conv2d(aux_logits, 128, [1, 1], scope='Conv2d_1b_1x1')\n",
    "                    aux_logits = slim.conv2d(\n",
    "                        aux_logits, 768, [5, 5],\n",
    "                        weights_initializer=trunc_normal(0.01),\n",
    "                        padding='VALID', scope='Conv2d_2a_5x5')\n",
    "                    aux_logits = slim.conv2d(\n",
    "                        aux_logits, num_classes, [1, 1], activation_fn=None,\n",
    "                        normalizer_fn=None, weights_initializer=trunc_normal(0.001),\n",
    "                        scope='Conv2d_2b_1x1'\n",
    "                    )\n",
    "                    if spatial_squeeze:\n",
    "                        aux_logits = tf.squeeze(aux_logits, [1, 2],\n",
    "                                                name='SpatialSqueeze')\n",
    "                    end_point['AuxLogits'] = aux_logits\n",
    "                with tf.variable_scope('Logits'):\n",
    "                    net = slim.avg_pool2d(net, [8, 8], padding='VALID', scope='AvgPool_1a_8x8')\n",
    "                    net = slim.dropout(net, keep_prob=dropout_keep_prob,scope='Dropout_1b')\n",
    "                    end_point['PreLogits'] = net\n",
    "                    logits = slim.conv2d(net, num_classes, [1, 1], activation_fn=None,\n",
    "                                         normalizer_fn=None, scope='Conv2d_1c_1x1')\n",
    "                    if spatial_squeeze:\n",
    "                        logits = tf.squeeze(logits, [1, 2], name='SpatialSqueeze')\n",
    "                    end_point['Logits'] = logits\n",
    "                    end_point['Predictions'] = prediction_fn(logits, scope='Predictions')\n",
    "    return logits, end_point"
   ]
  },
  {
   "cell_type": "code",
   "execution_count": 5,
   "metadata": {},
   "outputs": [],
   "source": [
    "def time_tensorflow_run(session, target, info_string):\n",
    "    num_steps_burn_in = 10\n",
    "    total_duration = 0.0\n",
    "    total_duration_squared = 0.0\n",
    "    \n",
    "    for i in range(num_batches + num_steps_burn_in):\n",
    "        start_time = time.time()\n",
    "        _ = session.run(target)\n",
    "        duration = time.time() - start_time\n",
    "        if i >= num_steps_burn_in:\n",
    "            if not i % 10:\n",
    "                print('%s: step %d, duration = %.3f' %\n",
    "                      (datetime.now(), i - num_steps_burn_in, duration))\n",
    "            total_duration += duration\n",
    "            total_duration_squared += duration * duration\n",
    "    mn = total_duration / num_batches\n",
    "    vr = total_duration_squared / num_batches - mn * mn\n",
    "    sd = math.sqrt(vr)\n",
    "    print('%s: %s across %d steps, %.3f +/- %.3f sec / batch' %\n",
    "          (datetime.now(), info_string, num_batches, mn, sd))"
   ]
  },
  {
   "cell_type": "code",
   "execution_count": 6,
   "metadata": {
    "collapsed": false
   },
   "outputs": [
    {
     "ename": "NameError",
     "evalue": "name 'time' is not defined",
     "traceback": [
      "\u001b[1;31m---------------------------------------------------------------------------\u001b[0m",
      "\u001b[1;31mNameError\u001b[0m                                 Traceback (most recent call last)",
      "\u001b[1;32m<ipython-input-6-5ceb29d91ecf>\u001b[0m in \u001b[0;36m<module>\u001b[1;34m()\u001b[0m\n\u001b[0;32m      8\u001b[0m \u001b[0msess\u001b[0m\u001b[1;33m.\u001b[0m\u001b[0mrun\u001b[0m\u001b[1;33m(\u001b[0m\u001b[0minit\u001b[0m\u001b[1;33m)\u001b[0m\u001b[1;33m\u001b[0m\u001b[0m\n\u001b[0;32m      9\u001b[0m \u001b[0mnum_batches\u001b[0m \u001b[1;33m=\u001b[0m \u001b[1;36m100\u001b[0m\u001b[1;33m\u001b[0m\u001b[0m\n\u001b[1;32m---> 10\u001b[1;33m \u001b[0mtime_tensorflow_run\u001b[0m\u001b[1;33m(\u001b[0m\u001b[0msess\u001b[0m\u001b[1;33m,\u001b[0m \u001b[0mlogits\u001b[0m\u001b[1;33m,\u001b[0m \u001b[1;34m'Forward'\u001b[0m\u001b[1;33m)\u001b[0m\u001b[1;33m\u001b[0m\u001b[0m\n\u001b[0m",
      "\u001b[1;32m<ipython-input-5-a2f33c6dcb33>\u001b[0m in \u001b[0;36mtime_tensorflow_run\u001b[1;34m(session, target, info_string)\u001b[0m\n\u001b[0;32m      5\u001b[0m \u001b[1;33m\u001b[0m\u001b[0m\n\u001b[0;32m      6\u001b[0m     \u001b[1;32mfor\u001b[0m \u001b[0mi\u001b[0m \u001b[1;32min\u001b[0m \u001b[0mrange\u001b[0m\u001b[1;33m(\u001b[0m\u001b[0mnum_batches\u001b[0m \u001b[1;33m+\u001b[0m \u001b[0mnum_steps_burn_in\u001b[0m\u001b[1;33m)\u001b[0m\u001b[1;33m:\u001b[0m\u001b[1;33m\u001b[0m\u001b[0m\n\u001b[1;32m----> 7\u001b[1;33m         \u001b[0mstart_time\u001b[0m \u001b[1;33m=\u001b[0m \u001b[0mtime\u001b[0m\u001b[1;33m.\u001b[0m\u001b[0mtime\u001b[0m\u001b[1;33m(\u001b[0m\u001b[1;33m)\u001b[0m\u001b[1;33m\u001b[0m\u001b[0m\n\u001b[0m\u001b[0;32m      8\u001b[0m         \u001b[0m_\u001b[0m \u001b[1;33m=\u001b[0m \u001b[0msession\u001b[0m\u001b[1;33m.\u001b[0m\u001b[0mrun\u001b[0m\u001b[1;33m(\u001b[0m\u001b[0mtarget\u001b[0m\u001b[1;33m)\u001b[0m\u001b[1;33m\u001b[0m\u001b[0m\n\u001b[0;32m      9\u001b[0m         \u001b[0mduration\u001b[0m \u001b[1;33m=\u001b[0m \u001b[0mtime\u001b[0m\u001b[1;33m.\u001b[0m\u001b[0mtime\u001b[0m\u001b[1;33m(\u001b[0m\u001b[1;33m)\u001b[0m \u001b[1;33m-\u001b[0m \u001b[0mstart_time\u001b[0m\u001b[1;33m\u001b[0m\u001b[0m\n",
      "\u001b[1;31mNameError\u001b[0m: name 'time' is not defined"
     ],
     "output_type": "error"
    }
   ],
   "source": [
    "batch_size = 32\n",
    "height, width = 299, 299\n",
    "inputs = tf.random_uniform((batch_size, height, width, 3))\n",
    "with slim.arg_scope(inception_v3_arg_scope()):\n",
    "    logits, end_point = inception_v3(inputs, is_training=False)\n",
    "init = tf.global_variables_initializer()\n",
    "sess = tf.Session()\n",
    "sess.run(init)\n",
    "num_batches = 100"
   ]
  },
  {
   "cell_type": "code",
   "execution_count": 7,
   "metadata": {},
   "outputs": [],
   "source": [
    "from datetime import datetime\n",
    "import math \n",
    "import time"
   ]
  },
  {
   "cell_type": "code",
   "execution_count": 8,
   "metadata": {},
   "outputs": [
    {
     "name": "stdout",
     "output_type": "stream",
     "text": [
      "2018-07-20 18:55:49.066198: step 0, duration = 18.203\n"
     ]
    },
    {
     "name": "stdout",
     "output_type": "stream",
     "text": [
      "2018-07-20 18:59:11.594536: step 10, duration = 22.925\n"
     ]
    },
    {
     "name": "stdout",
     "output_type": "stream",
     "text": [
      "2018-07-20 19:02:26.867165: step 20, duration = 18.094\n"
     ]
    },
    {
     "name": "stdout",
     "output_type": "stream",
     "text": [
      "2018-07-20 19:05:27.007277: step 30, duration = 18.033\n"
     ]
    },
    {
     "name": "stdout",
     "output_type": "stream",
     "text": [
      "2018-07-20 19:08:26.333564: step 40, duration = 17.990\n"
     ]
    },
    {
     "name": "stdout",
     "output_type": "stream",
     "text": [
      "2018-07-20 19:11:39.443675: step 50, duration = 17.921\n"
     ]
    },
    {
     "name": "stdout",
     "output_type": "stream",
     "text": [
      "2018-07-20 19:14:59.881417: step 60, duration = 18.519\n"
     ]
    },
    {
     "name": "stdout",
     "output_type": "stream",
     "text": [
      "2018-07-20 19:18:13.332914: step 70, duration = 18.161\n"
     ]
    },
    {
     "name": "stdout",
     "output_type": "stream",
     "text": [
      "2018-07-20 19:21:24.189532: step 80, duration = 18.824\n"
     ]
    },
    {
     "name": "stdout",
     "output_type": "stream",
     "text": [
      "2018-07-20 19:24:29.893760: step 90, duration = 18.190\n"
     ]
    },
    {
     "name": "stdout",
     "output_type": "stream",
     "text": [
      "2018-07-20 19:27:21.607414: Forward across 100 steps, 19.107 +/- 1.356 sec / batch\n"
     ]
    }
   ],
   "source": [
    "time_tensorflow_run(sess, logits, 'Forward')"
   ]
  },
  {
   "cell_type": "code",
   "execution_count": null,
   "metadata": {},
   "outputs": [],
   "source": []
  }
 ],
 "metadata": {
  "kernelspec": {
   "display_name": "Python 2",
   "language": "python",
   "name": "python2"
  },
  "language_info": {
   "codemirror_mode": {
    "name": "ipython",
    "version": 2
   },
   "file_extension": ".py",
   "mimetype": "text/x-python",
   "name": "python",
   "nbconvert_exporter": "python",
   "pygments_lexer": "ipython2",
   "version": "2.7.6"
  }
 },
 "nbformat": 4,
 "nbformat_minor": 0
}
