{
 "cells": [
  {
   "cell_type": "code",
   "execution_count": 19,
   "metadata": {},
   "outputs": [],
   "source": [
    "import numpy as np\n",
    "import sklearn.preprocessing as prep\n",
    "import tensorflow as tf"
   ]
  },
  {
   "cell_type": "code",
   "execution_count": 20,
   "metadata": {
    "collapsed": true
   },
   "outputs": [],
   "source": [
    "def xvaier_init(fan_in, fan_out, constant = 1):\n",
    "    low = -constant * np.sqrt(6.0 / (fan_in + fan_out))\n",
    "    high = constant * np.sqrt(6.0 / (fan_in + fan_out))\n",
    "    return tf.random_uniform((fan_in, fan_out),\n",
    "                            minval = low, maxval = high,\n",
    "                            dtype = tf.float32)"
   ]
  },
  {
   "cell_type": "code",
   "execution_count": 27,
   "metadata": {
    "collapsed": true
   },
   "outputs": [],
   "source": [
    "class AdditiveGaussianNoiseAutoencoder(object):\n",
    "    def __init__(self, n_input, n_hidden, transfer_function=tf.nn.softplus,\n",
    "                optimizer = tf.train.AdadeltaOptimizer(), scale=0.1):\n",
    "        self.n_input = n_input\n",
    "        self.n_hidden = n_hidden\n",
    "        self.transfer = transfer_function\n",
    "        self.scale = tf.placeholder(tf.float32)\n",
    "        self.training_scale = scale\n",
    "        network_weights = self._initialize_weights()\n",
    "        self.weights = network_weights\n",
    "        \n",
    "        self.x = tf.placeholder(tf.float32, (None, self.n_input))\n",
    "        self.hidden = self.transfer(tf.add(tf.matmul((\n",
    "                        self.x + scale * tf.random_normal((n_input,))),\n",
    "                        self.weights['w1']), self.weights['b1']))\n",
    "        self.reconstruction = tf.add(tf.matmul(self.hidden,\n",
    "                                self.weights['w2']), self.weights['b2'])\n",
    "        \n",
    "        self.cost = 0.5 * tf.reduce_sum(tf.pow(tf.subtract(\n",
    "                                self.reconstruction, self.x), 2.0))\n",
    "        self.optimizer = optimizer.minimize(self.cost)\n",
    "        \n",
    "        init = tf.global_variables_initializer()\n",
    "        self.sess = tf.Session()\n",
    "        self.sess.run(init)\n",
    "    \n",
    "    def _initialize_weights(self):\n",
    "        all_weights = dict()\n",
    "        all_weights['w1'] = tf.Variable(xvaier_init(self.n_input,\n",
    "                                                  self.n_hidden))\n",
    "        all_weights['b1'] = tf.Variable(tf.zeros([self.n_hidden],\n",
    "                                               dtype = tf.float32))\n",
    "        all_weights['w2'] = tf.Variable(tf.zeros([self.n_hidden,\n",
    "                                                  self.n_input], dtype = tf.float32))\n",
    "        all_weights['b2'] = tf.Variable(tf.zeros([self.n_input],\n",
    "                                               dtype = tf.float32))\n",
    "        return all_weights\n",
    "    def partial_fit(self, X):\n",
    "        cost, opt = self.sess.run((self.cost, self.optimizer),\n",
    "                                 feed_dict = {self.x: X, self.scale: self.training_scale})\n",
    "        return cost\n",
    "    \n",
    "    def calc_total_cost(self, X):\n",
    "        return self.sess.run(self.cost, feed_dict = {self.x: X,\n",
    "                                                    self.scale: self.training_scale})\n",
    "    \n",
    "    def transform(self, X):\n",
    "        return self.sess.run(self.hidden, feed_dict = {self.x: X,\n",
    "                                                       self.scale: self.training_scale\n",
    "        })\n",
    "    \n",
    "    def generate(self, hidden = None):\n",
    "        if hidden is None:\n",
    "            hidden = np.random.normal(size = self.weights['b1'])\n",
    "        return self.sess.run(self.reconstruction,feed_dict = {\n",
    "            self.x: X, self.scale: self.training_scale\n",
    "        })\n",
    "    \n",
    "    def getWeights(self, X):\n",
    "        return self.sess.run(self.weights['w1'])\n",
    "    \n",
    "    def getBiases(self, X):\n",
    "        return self.sess.run(self.weights['b1'])"
   ]
  },
  {
   "cell_type": "code",
   "execution_count": 22,
   "metadata": {},
   "outputs": [
    {
     "name": "stdout",
     "output_type": "stream",
     "text": [
      "Extracting MNIST_data/train-images-idx3-ubyte.gz\n",
      "Extracting MNIST_data/train-labels-idx1-ubyte.gz\n",
      "Extracting MNIST_data/t10k-images-idx3-ubyte.gz\n",
      "Extracting MNIST_data/t10k-labels-idx1-ubyte.gz\n"
     ]
    }
   ],
   "source": [
    "from tensorflow.examples.tutorials.mnist import input_data\n",
    "mnist = input_data.read_data_sets('MNIST_data/', one_hot=True)"
   ]
  },
  {
   "cell_type": "code",
   "execution_count": 23,
   "metadata": {
    "collapsed": true
   },
   "outputs": [],
   "source": [
    "def standard_scale(X_train,X_test):\n",
    "    preprocessor = prep.StandardScaler().fit(X_train)\n",
    "    X_train = preprocessor.transform(X_train)\n",
    "    X_test = preprocessor.transform(X_test)\n",
    "    return X_train, X_test\n",
    "\n",
    "def get_random_block_from_data(data, batch_size):\n",
    "    start_index = np.random.randint(0, len(data) - batch_size)\n",
    "    return data[start_index:(start_index + batch_size)]"
   ]
  },
  {
   "cell_type": "code",
   "execution_count": 24,
   "metadata": {
    "collapsed": true
   },
   "outputs": [],
   "source": [
    "X_train, X_test = standard_scale(mnist.train.images, mnist.test.images)"
   ]
  },
  {
   "cell_type": "code",
   "execution_count": 25,
   "metadata": {
    "collapsed": true
   },
   "outputs": [],
   "source": [
    "n_samples = int(mnist.train.num_examples)\n",
    "training_epochs = 20\n",
    "batch_size = 128\n",
    "display_step = 1"
   ]
  },
  {
   "cell_type": "code",
   "execution_count": 28,
   "metadata": {},
   "outputs": [],
   "source": [
    "autoencoder = AdditiveGaussianNoiseAutoencoder(n_input = 784,\n",
    "                                              n_hidden = 200,\n",
    "                                              transfer_function = tf.nn.softplus,\n",
    "                                              optimizer = tf.train.AdadeltaOptimizer(learning_rate=0.001),\n",
    "                                              scale = 0.01)"
   ]
  },
  {
   "cell_type": "code",
   "execution_count": 29,
   "metadata": {},
   "outputs": [
    {
     "name": "stdout",
     "output_type": "stream",
     "text": [
      "Epoch: 0001 cost=  48366.400545455\n",
      "Epoch: 0002 cost=  46329.458700000\n",
      "Epoch: 0003 cost=  45209.411004545\n",
      "Epoch: 0004 cost=  44368.433745455\n",
      "Epoch: 0005 cost=  42379.208445455\n",
      "Epoch: 0006 cost=  41892.902863636\n",
      "Epoch: 0007 cost=  41832.078681818\n",
      "Epoch: 0008 cost=  40910.958900000\n",
      "Epoch: 0009 cost=  38572.976545455\n",
      "Epoch: 0010 cost=  39264.401209091\n",
      "Epoch: 0011 cost=  39954.293295455\n",
      "Epoch: 0012 cost=  39240.873490909\n",
      "Epoch: 0013 cost=  39170.457431818\n",
      "Epoch: 0014 cost=  39621.151950000\n",
      "Epoch: 0015 cost=  39129.445172727\n",
      "Epoch: 0016 cost=  38164.400254545\n",
      "Epoch: 0017 cost=  38045.585850000\n",
      "Epoch: 0018 cost=  38014.939640909\n",
      "Epoch: 0019 cost=  37298.145618182\n",
      "Epoch: 0020 cost=  37769.993468182\n"
     ]
    }
   ],
   "source": [
    "for epoch in range(training_epochs):\n",
    "    avg_cost = 0\n",
    "    total_batch = int(n_samples / batch_size)\n",
    "    for i in range(total_batch):\n",
    "        batch_xs = get_random_block_from_data(X_train, batch_size)\n",
    "        \n",
    "        cost = autoencoder.partial_fit(batch_xs)\n",
    "        avg_cost += cost / n_samples * batch_size\n",
    "        \n",
    "    if epoch % display_step == 0:\n",
    "        print(\"Epoch:\", '%04d'%(epoch + 1), 'cost=', \"{: .9f}\".format(avg_cost))"
   ]
  },
  {
   "cell_type": "code",
   "execution_count": 31,
   "metadata": {},
   "outputs": [
    {
     "name": "stdout",
     "output_type": "stream",
     "text": [
      "Total cost: 2987238.5\n"
     ]
    }
   ],
   "source": [
    "print('Total cost: ' + str(autoencoder.calc_total_cost(X_test)))"
   ]
  },
  {
   "cell_type": "code",
   "execution_count": null,
   "metadata": {
    "collapsed": true
   },
   "outputs": [],
   "source": []
  }
 ],
 "metadata": {
  "kernelspec": {
   "display_name": "Python 3",
   "language": "python",
   "name": "python3"
  },
  "language_info": {
   "codemirror_mode": {
    "name": "ipython",
    "version": 3
   },
   "file_extension": ".py",
   "mimetype": "text/x-python",
   "name": "python",
   "nbconvert_exporter": "python",
   "pygments_lexer": "ipython3",
   "version": "3.5.4"
  }
 },
 "nbformat": 4,
 "nbformat_minor": 2
}
